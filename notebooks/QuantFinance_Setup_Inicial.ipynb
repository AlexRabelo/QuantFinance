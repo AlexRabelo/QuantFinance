{
 "cells": [
  {
   "cell_type": "markdown",
   "metadata": {},
   "source": [
    "# QuantFinance - Setup Inicial\n",
    "\n",
    "Este notebook faz o setup inicial das bibliotecas essenciais para o projeto QuantFinance, garantindo que o ambiente Google Colab esteja pronto para análise gráfica e quantitativa financeira.\n",
    "\n",
    "---\n",
    "\n",
    "## Instalação das Bibliotecas\n",
    "\n",
    "Execute a célula abaixo para instalar as bibliotecas necessárias."
   ]
  },
  {
   "cell_type": "code",
   "execution_count": null,
   "metadata": {},
   "outputs": [],
   "source": [
    "!pip install --quiet pandas numpy matplotlib plotly yfinance TA-Lib scikit-learn tensorflow jupyterlab"
   ]
  },
  {
   "cell_type": "markdown",
   "metadata": {},
   "source": [
    "---\n",
    "\n",
    "## Importação dos Pacotes\n",
    "\n",
    "Teste se as bibliotecas foram importadas corretamente."
   ]
  },
  {
   "cell_type": "code",
   "execution_count": null,
   "metadata": {},
   "outputs": [],
   "source": [
    "import pandas as pd\n",
    "import numpy as np\n",
    "import matplotlib.pyplot as plt\n",
    "import plotly.graph_objects as go\n",
    "import yfinance as yf\n",
    "import talib\n",
    "from sklearn.model_selection import train_test_split\n",
    "import tensorflow as tf\n",
    "\n",
    "print(\"Setup concluído com sucesso! Versões:\")\n",
    "print(f\"Pandas: {pd.__version__}\")\n",
    "print(f\"Numpy: {np.__version__}\")\n",
    "print(f\"Matplotlib: {plt.__version__}\")\n",
    "print(f\"Plotly: {go.__version__}\")\n",
    "print(f\"yfinance: {yf.__version__}\")\n",
    "print(f\"TA-Lib: {talib.__version__}\")\n",
    "print(f\"Scikit-learn: {pd.__version__}\")\n",
    "print(f\"TensorFlow: {tf.__version__}\")"
   ]
  },
  {
   "cell_type": "markdown",
   "metadata": {},
   "source": [
    "---\n",
    "\n",
    "## Teste Rápido: Download e Gráfico Simples\n",
    "\n",
    "Vamos baixar os dados históricos da ação da Petrobras (PETR4.SA) no Yahoo Finance e exibir um gráfico de candles simples."
   ]
  },
  {
   "cell_type": "code",
   "execution_count": null,
   "metadata": {},
   "outputs": [],
   "source": [
    "# Baixa dados da Petrobras no último ano\n",
    "ticker = 'PETR4.SA'\n",
    "df = yf.download(ticker, period='1y', interval='1d')\n",
    "\n",
    "import plotly.graph_objects as go\n",
    "\n",
    "fig = go.Figure(data=[go.Candlestick(\n",
    "    x=df.index,\n",
    "    open=df['Open'],\n",
    "    high=df['High'],\n",
    "    low=df['Low'],\n",
    "    close=df['Close'],\n",
    "    name='Candlestick'\n",
    ")])\n",
    "\n",
    "fig.update_layout(title=f'Candlestick {ticker} - Último Ano', xaxis_rangeslider_visible=False)\n",
    "fig.show()"
   ]
  }
 ],
 "metadata": {
  "kernelspec": {
   "display_name": "Python 3",
   "language": "python",
   "name": "python3"
  },
  "language_info": {
   "codemirror_mode": {
    "name": "ipython",
    "version": 3
   },
   "file_extension": ".py",
   "mimetype": "text/x-python",
   "name": "python",
   "nbconvert_exporter": "python",
   "pygments_lexer": "ipython3",
   "version": "3.11.4"
  }
 },
 "nbformat": 4,
 "nbformat_minor": 5
}
