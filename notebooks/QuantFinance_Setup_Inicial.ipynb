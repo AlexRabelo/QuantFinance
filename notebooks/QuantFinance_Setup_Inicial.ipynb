{
  "cells": [
    {
      "cell_type": "markdown",
      "metadata": {
        "id": "_BE-06zw4jxu"
      },
      "source": [
        "# QuantFinance - Setup Inicial\n",
        "\n",
        "Este notebook faz o setup inicial das bibliotecas essenciais para o projeto QuantFinance, garantindo que o ambiente Google Colab esteja pronto para análise gráfica e quantitativa financeira.\n",
        "\n",
        "---\n",
        "\n",
        "# Objetivo:\n",
        "\n",
        "Setup inicial das bibliotecas Python essenciais para análise financeira, manipulação de dados e visualização.\n",
        "\n",
        "Construção da base de dados histórica de preço e volume com duas formas de aquisição dos dados:\n",
        "\n",
        "*   Via API do Yahoo Finance, automatizando a obtenção dos dados mais recentes.\n",
        "*   Via arquivo local (.csv, .xlsx) exportado de plataformas como ProfitPro, integrando dados preparados manualmente.\n",
        "\n",
        "Essa estrutura inicial é fundamental para qualquer projeto de análise quantitativa pois cria a base confiável de dados e ferramentas para avançar para análises técnicas, modelagem e geração de sinais.\n",
        "\n",
        "---\n",
        "\n",
        "## Instalação das Bibliotecas\n",
        "\n",
        "Execute a célula abaixo para instalar as bibliotecas necessárias."
      ],
      "id": "_BE-06zw4jxu"
    },
    {
      "cell_type": "code",
      "execution_count": 1,
      "metadata": {
        "id": "Ve_TXaBU4jxx"
      },
      "outputs": [],
      "source": [
        "!pip install --quiet pandas numpy matplotlib plotly yfinance TA-Lib scikit-learn tensorflow jupyterlab"
      ],
      "id": "Ve_TXaBU4jxx"
    },
    {
      "cell_type": "markdown",
      "metadata": {
        "id": "xjKAKIXf4jxy"
      },
      "source": [
        "---\n",
        "\n",
        "## Importação dos Pacotes\n",
        "\n",
        "Teste se as bibliotecas foram importadas corretamente."
      ],
      "id": "xjKAKIXf4jxy"
    },
    {
      "cell_type": "code",
      "execution_count": null,
      "metadata": {
        "id": "McWY0kRs4jxz"
      },
      "outputs": [],
      "source": [
        "import pandas as pd\n",
        "import numpy as np\n",
        "import matplotlib\n",
        "import matplotlib.pyplot as plt\n",
        "import plotly\n",
        "import yfinance as yf\n",
        "import talib\n",
        "import sklearn\n",
        "from sklearn.model_selection import train_test_split\n",
        "import tensorflow as tf\n",
        "\n",
        "print(\"Setup concluído com sucesso! Versões:\")\n",
        "print(f\"Pandas: {pd.__version__}\")\n",
        "print(f\"Numpy: {np.__version__}\")\n",
        "print(f\"Matplotlib: {matplotlib.__version__}\")\n",
        "print(f\"Plotly: {plotly.__version__}\")\n",
        "print(f\"yfinance: {yf.__version__}\")\n",
        "print(f\"TA-Lib: {talib.__version__}\")\n",
        "print(f\"Scikit-learn: {sklearn.__version__}\")\n",
        "print(f\"TensorFlow: {tf.__version__}\")\n"
      ],
      "id": "McWY0kRs4jxz"
    },
    {
      "cell_type": "markdown",
      "metadata": {
        "id": "gswKNgsD4jxz"
      },
      "source": [
        "---\n",
        "\n",
        "## Teste Rápido: Download e Gráfico Simples\n",
        "\n",
        "Vamos baixar os dados históricos da ação da Petrobras (PETR4.SA) no Yahoo Finance e exibir um gráfico de candles simples."
      ],
      "id": "gswKNgsD4jxz"
    },
    {
      "cell_type": "code",
      "execution_count": null,
      "metadata": {
        "id": "tJ7lG82f4jxz"
      },
      "outputs": [],
      "source": [
        "ticker = 'PETR4.SA'\n",
        "df = yf.download(ticker, start='2024-01-01', end='2025-09-27', interval='1d')\n",
        "\n",
        "# Ajuste para colunas sem multi-index\n",
        "df.columns = df.columns.droplevel(1)\n",
        "\n",
        "import plotly.graph_objects as go\n",
        "\n",
        "fig = go.Figure(data=[go.Candlestick(\n",
        "    x=df.index,\n",
        "    open=df['Open'],\n",
        "    high=df['High'],\n",
        "    low=df['Low'],\n",
        "    close=df['Close'],\n",
        "    name='Candlestick'\n",
        ")])\n",
        "\n",
        "fig.update_layout(title=f'Candlestick {ticker} - Período 2024-2025', xaxis_rangeslider_visible=False)\n",
        "fig.show()\n",
        "\n"
      ],
      "id": "tJ7lG82f4jxz"
    },
    {
      "cell_type": "markdown",
      "source": [
        "---\n",
        "\n",
        "## Teste Rápido: Leitura de Arquivo e Gráfico Simples\n",
        "\n",
        "Vamos ler os dados históricos da ação da Petrobras (PETR4.SA) em um arquivo e exibir um gráfico de candles simples."
      ],
      "metadata": {
        "id": "PHZjvH4kAyeW"
      },
      "id": "PHZjvH4kAyeW"
    },
    {
      "cell_type": "code",
      "source": [
        "import pandas as pd\n",
        "import plotly.graph_objects as go\n",
        "\n",
        "url = 'https://raw.githubusercontent.com/AlexRabelo/QuantFinance/main/data/PETR4.xlsx'\n",
        "df = pd.read_excel(url)\n",
        "\n",
        "# Renomear colunas para o padrão esperado pelo plotly\n",
        "df.rename(columns={\n",
        "    'Data': 'Date',\n",
        "    'Abertura': 'Open',\n",
        "    'Máxima': 'High',\n",
        "    'Mínima': 'Low',\n",
        "    'Fechamento': 'Close',\n",
        "    'Volume Financeiro (Milhoes)': 'Volume'\n",
        "}, inplace=True)\n",
        "\n",
        "# Converter a coluna Data para datetime, se ainda não estiver\n",
        "df['Date'] = pd.to_datetime(df['Date'], dayfirst=True)\n",
        "\n",
        "print(df.head())\n",
        "\n",
        "# Plotar gráfico candlestick\n",
        "fig = go.Figure(data=[go.Candlestick(\n",
        "    x=df['Date'],\n",
        "    open=df['Open'],\n",
        "    high=df['High'],\n",
        "    low=df['Low'],\n",
        "    close=df['Close'],\n",
        "    name='Candlestick'\n",
        ")])\n",
        "\n",
        "fig.update_layout(title='Candlestick PETR4 - Dados Excel Ajustados', xaxis_rangeslider_visible=False)\n",
        "fig.show()\n"
      ],
      "metadata": {
        "id": "aljcCtNhAy7V"
      },
      "id": "aljcCtNhAy7V",
      "execution_count": null,
      "outputs": []
    }
  ],
  "metadata": {
    "kernelspec": {
      "display_name": "Python 3",
      "language": "python",
      "name": "python3"
    },
    "language_info": {
      "codemirror_mode": {
        "name": "ipython",
        "version": 3
      },
      "file_extension": ".py",
      "mimetype": "text/x-python",
      "name": "python",
      "nbconvert_exporter": "python",
      "pygments_lexer": "ipython3",
      "version": "3.11.4"
    },
    "colab": {
      "provenance": []
    }
  },
  "nbformat": 4,
  "nbformat_minor": 5
}